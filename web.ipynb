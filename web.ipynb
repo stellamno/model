{
 "cells": [
  {
   "cell_type": "code",
   "execution_count": 6,
   "id": "036cdbaa",
   "metadata": {},
   "outputs": [],
   "source": [
    "#%%\n",
    "# 导入所需的包\n",
    "import pandas as pd\n",
    "import numpy as np\n",
    "from sklearn.model_selection import train_test_split\n",
    "from sklearn.ensemble import VotingClassifier\n",
    "from sklearn.linear_model import LogisticRegression\n",
    "from xgboost import XGBClassifier\n",
    "from imblearn.over_sampling import BorderlineSMOTE\n",
    "import joblib\n",
    "\n",
    "# 读取数据\n",
    "data = pd.read_excel('./data/预处理后数据136.xlsx')\n",
    "X = data.drop(['Label', \"ID\"], axis=1)  # 特征矩阵\n",
    "y = data['Label']  # 目标变量\n",
    "#%%"
   ]
  },
  {
   "cell_type": "code",
   "execution_count": 7,
   "id": "6a8c0fef",
   "metadata": {},
   "outputs": [],
   "source": [
    "selected_features = [\n",
    "            '性别', '首次癫痫发作年龄', '发作频率', '首次癫痫发作到首次口服抗癫痫药物时间', '病因分类', '基因结果有无异常',\n",
    "       '是否热性惊厥史', '生产方式', '是否围产期异常', '是否家族史异常', '首次癫痫发作形式_1', '首次癫痫发作形式_2',\n",
    "       '治疗前脑电图放电部位_2.0', '治疗前脑电图放电部位_3.0', '治疗前脑电图放电部位_4.0', '治疗前脑电图放电部位_5.0',\n",
    "     \n",
    "        ]"
   ]
  },
  {
   "cell_type": "code",
   "execution_count": 10,
   "id": "ec5aadab",
   "metadata": {},
   "outputs": [
    {
     "data": {
      "text/plain": [
       "性别                    0.000000\n",
       "首次癫痫发作年龄              0.535484\n",
       "发作频率                  0.001855\n",
       "首次癫痫发作到首次口服抗癫痫药物时间    0.005952\n",
       "病因分类                  0.000000\n",
       "基因结果有无异常              0.000000\n",
       "是否热性惊厥史               0.000000\n",
       "生产方式                  0.000000\n",
       "是否围产期异常               0.000000\n",
       "是否家族史异常               0.000000\n",
       "首次癫痫发作形式_1            0.000000\n",
       "首次癫痫发作形式_2            1.000000\n",
       "治疗前脑电图放电部位_2.0        0.000000\n",
       "治疗前脑电图放电部位_3.0        1.000000\n",
       "治疗前脑电图放电部位_4.0        0.000000\n",
       "治疗前脑电图放电部位_5.0        0.000000\n",
       "Name: 112, dtype: float64"
      ]
     },
     "execution_count": 10,
     "metadata": {},
     "output_type": "execute_result"
    }
   ],
   "source": [
    "X_train.iloc[1]"
   ]
  },
  {
   "cell_type": "code",
   "execution_count": 8,
   "id": "f8f630f6",
   "metadata": {},
   "outputs": [
    {
     "data": {
      "text/plain": [
       "['voting_clf.pkl']"
      ]
     },
     "execution_count": 8,
     "metadata": {},
     "output_type": "execute_result"
    }
   ],
   "source": [
    "# 划分训练集和测试集\n",
    "X_train, X_test, y_train, y_test = train_test_split(X[selected_features], y, test_size=0.3, random_state=43)\n",
    "\n",
    "# 过采样\n",
    "oversampler = BorderlineSMOTE(sampling_strategy='auto', random_state=43)\n",
    "X_train_resampled, y_train_resampled = oversampler.fit_resample(X_train, y_train)\n",
    "\n",
    "# 定义模型\n",
    "lr = LogisticRegression(C=10, class_weight='balanced', random_state=43)\n",
    "xgb = XGBClassifier(max_depth=3, learning_rate=0.1, n_estimators=100, seed=43)\n",
    "\n",
    "# 创建Voting分类器\n",
    "voting_clf = VotingClassifier(estimators=[('LR', lr), ('XGBoost', xgb)], voting='soft')\n",
    "voting_clf.fit(X_train_resampled, y_train_resampled)\n",
    "\n",
    "# 保存模型\n",
    "joblib.dump(voting_clf, \"voting_clf.pkl\")"
   ]
  },
  {
   "cell_type": "code",
   "execution_count": 4,
   "id": "8b980d98",
   "metadata": {},
   "outputs": [
    {
     "name": "stderr",
     "output_type": "stream",
     "text": [
      "2024-03-17 10:57:16.377 \n",
      "  \u001b[33m\u001b[1mWarning:\u001b[0m to view this Streamlit app on a browser, run it with the following\n",
      "  command:\n",
      "\n",
      "    streamlit run D:\\Anaconda\\envs\\myenv\\lib\\site-packages\\ipykernel_launcher.py [ARGUMENTS]\n"
     ]
    }
   ],
   "source": [
    "import streamlit as st\n",
    "import pandas as pd\n",
    "import joblib\n",
    "\n",
    "# Title\n",
    "st.header(\"Streamlit Machine Learning App for Seizure Prediction\")\n",
    "\n",
    "# Load classifier\n",
    "clf = joblib.load(\"voting_clf.pkl\")\n",
    "\n",
    "# Inputs\n",
    "feature_input = {}\n",
    "for feature in ['性别', '首次癫痫发作年龄', '发作频率', '首次癫痫发作到首次口服抗癫痫药物时间', '病因分类']:\n",
    "    feature_input[feature] = st.number_input(f\"Enter {feature}\", format=\"%f\")\n",
    "\n",
    "# Convert to DataFrame\n",
    "input_df = pd.DataFrame([feature_input])\n",
    "\n",
    "# If button is pressed\n",
    "if st.button(\"Predict\"):\n",
    "    # Get prediction\n",
    "    prediction = clf.predict(input_df)[0]\n",
    "    \n",
    "    # Output prediction\n",
    "    st.write(f\"The predicted label is {prediction}\")\n"
   ]
  },
  {
   "cell_type": "code",
   "execution_count": 5,
   "id": "c3de9400",
   "metadata": {},
   "outputs": [],
   "source": [
    "import streamlit as st\n",
    "import pandas as pd\n",
    "import joblib\n",
    "\n",
    "# Title\n",
    "st.header(\"Streamlit Machine Learning App for Seizure Prediction\")\n",
    "\n",
    "# Load classifier\n",
    "clf = joblib.load(\"voting_clf.pkl\")\n",
    "\n",
    "# Inputs\n",
    "feature_input = {}\n",
    "features = [\n",
    "    '性别', '首次癫痫发作年龄', '发作频率', '首次癫痫发作到首次口服抗癫痫药物时间', '病因分类', '基因结果有无异常',\n",
    "    '是否热性惊厥史', '生产方式', '是否围产期异常', '是否家族史异常', '首次癫痫发作形式_1', '首次癫痫发作形式_2',\n",
    "    '治疗前脑电图放电部位_2.0', '治疗前脑电图放电部位_3.0', '治疗前脑电图放电部位_4.0', '治疗前脑电图放电部位_5.0'\n",
    "]\n",
    "\n",
    "for feature in features:\n",
    "    # Assume numerical input for simplicity; modify as needed\n",
    "    feature_input[feature] = st.number_input(f\"Enter {feature}\", format=\"%f\")\n",
    "\n",
    "# Convert to DataFrame\n",
    "input_df = pd.DataFrame([feature_input])\n",
    "\n",
    "# If button is pressed\n",
    "if st.button(\"Predict\"):\n",
    "    # Get prediction\n",
    "    prediction = clf.predict(input_df)[0]\n",
    "\n",
    "    # Output prediction\n",
    "    st.write(f\"The predicted label is {prediction}\")\n"
   ]
  },
  {
   "cell_type": "code",
   "execution_count": null,
   "id": "fcde6ae8",
   "metadata": {},
   "outputs": [],
   "source": []
  }
 ],
 "metadata": {
  "kernelspec": {
   "display_name": "myenv",
   "language": "python",
   "name": "myenv"
  },
  "language_info": {
   "codemirror_mode": {
    "name": "ipython",
    "version": 3
   },
   "file_extension": ".py",
   "mimetype": "text/x-python",
   "name": "python",
   "nbconvert_exporter": "python",
   "pygments_lexer": "ipython3",
   "version": "3.9.18"
  }
 },
 "nbformat": 4,
 "nbformat_minor": 5
}
